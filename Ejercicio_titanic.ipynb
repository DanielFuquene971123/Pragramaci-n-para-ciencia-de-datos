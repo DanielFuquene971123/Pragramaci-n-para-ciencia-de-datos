{
 "cells": [
  {
   "cell_type": "markdown",
   "id": "a84a92a7-8776-45d9-a5f7-1e6e6bbea0cf",
   "metadata": {},
   "source": [
    "# EJERCICIO 2 DATAFRAME TITANIC"
   ]
  },
  {
   "cell_type": "markdown",
   "id": "c4b85031-0939-46c5-81de-b022373e8508",
   "metadata": {},
   "source": [
    "## Importamos las librerias necesarias para poder analizar la base de datos."
   ]
  },
  {
   "cell_type": "markdown",
   "id": "13dad805-2b53-47e2-b683-dd97110e311b",
   "metadata": {},
   "source": [
    "Usamos la libreria pandas y definimos su nomenclatura a lo largo del notebook como \"pd\" para poder visualizar y analizar los datos."
   ]
  },
  {
   "cell_type": "code",
   "execution_count": 8,
   "id": "18334bba-4bb8-4c7c-8520-8bb7581a5f5e",
   "metadata": {},
   "outputs": [],
   "source": [
    "import pandas as pd"
   ]
  },
  {
   "cell_type": "code",
   "execution_count": 10,
   "id": "ef037107-0aea-4c65-8e4e-7609d7b7524b",
   "metadata": {},
   "outputs": [
    {
     "data": {
      "text/html": [
       "<div>\n",
       "<style scoped>\n",
       "    .dataframe tbody tr th:only-of-type {\n",
       "        vertical-align: middle;\n",
       "    }\n",
       "\n",
       "    .dataframe tbody tr th {\n",
       "        vertical-align: top;\n",
       "    }\n",
       "\n",
       "    .dataframe thead th {\n",
       "        text-align: right;\n",
       "    }\n",
       "</style>\n",
       "<table border=\"1\" class=\"dataframe\">\n",
       "  <thead>\n",
       "    <tr style=\"text-align: right;\">\n",
       "      <th></th>\n",
       "      <th>Survived</th>\n",
       "      <th>Pclass</th>\n",
       "      <th>Name</th>\n",
       "      <th>Sex</th>\n",
       "      <th>Age</th>\n",
       "      <th>Siblings/Spouses Aboard</th>\n",
       "      <th>Parents/Children Aboard</th>\n",
       "      <th>Fare</th>\n",
       "    </tr>\n",
       "  </thead>\n",
       "  <tbody>\n",
       "    <tr>\n",
       "      <th>0</th>\n",
       "      <td>0</td>\n",
       "      <td>3</td>\n",
       "      <td>Mr. Owen Harris Braund</td>\n",
       "      <td>male</td>\n",
       "      <td>22.0</td>\n",
       "      <td>1</td>\n",
       "      <td>0</td>\n",
       "      <td>7.2500</td>\n",
       "    </tr>\n",
       "    <tr>\n",
       "      <th>1</th>\n",
       "      <td>1</td>\n",
       "      <td>1</td>\n",
       "      <td>Mrs. John Bradley (Florence Briggs Thayer) Cum...</td>\n",
       "      <td>female</td>\n",
       "      <td>38.0</td>\n",
       "      <td>1</td>\n",
       "      <td>0</td>\n",
       "      <td>71.2833</td>\n",
       "    </tr>\n",
       "    <tr>\n",
       "      <th>2</th>\n",
       "      <td>1</td>\n",
       "      <td>3</td>\n",
       "      <td>Miss. Laina Heikkinen</td>\n",
       "      <td>female</td>\n",
       "      <td>26.0</td>\n",
       "      <td>0</td>\n",
       "      <td>0</td>\n",
       "      <td>7.9250</td>\n",
       "    </tr>\n",
       "    <tr>\n",
       "      <th>3</th>\n",
       "      <td>1</td>\n",
       "      <td>1</td>\n",
       "      <td>Mrs. Jacques Heath (Lily May Peel) Futrelle</td>\n",
       "      <td>female</td>\n",
       "      <td>35.0</td>\n",
       "      <td>1</td>\n",
       "      <td>0</td>\n",
       "      <td>53.1000</td>\n",
       "    </tr>\n",
       "    <tr>\n",
       "      <th>4</th>\n",
       "      <td>0</td>\n",
       "      <td>3</td>\n",
       "      <td>Mr. William Henry Allen</td>\n",
       "      <td>male</td>\n",
       "      <td>35.0</td>\n",
       "      <td>0</td>\n",
       "      <td>0</td>\n",
       "      <td>8.0500</td>\n",
       "    </tr>\n",
       "    <tr>\n",
       "      <th>...</th>\n",
       "      <td>...</td>\n",
       "      <td>...</td>\n",
       "      <td>...</td>\n",
       "      <td>...</td>\n",
       "      <td>...</td>\n",
       "      <td>...</td>\n",
       "      <td>...</td>\n",
       "      <td>...</td>\n",
       "    </tr>\n",
       "    <tr>\n",
       "      <th>882</th>\n",
       "      <td>0</td>\n",
       "      <td>2</td>\n",
       "      <td>Rev. Juozas Montvila</td>\n",
       "      <td>male</td>\n",
       "      <td>27.0</td>\n",
       "      <td>0</td>\n",
       "      <td>0</td>\n",
       "      <td>13.0000</td>\n",
       "    </tr>\n",
       "    <tr>\n",
       "      <th>883</th>\n",
       "      <td>1</td>\n",
       "      <td>1</td>\n",
       "      <td>Miss. Margaret Edith Graham</td>\n",
       "      <td>female</td>\n",
       "      <td>19.0</td>\n",
       "      <td>0</td>\n",
       "      <td>0</td>\n",
       "      <td>30.0000</td>\n",
       "    </tr>\n",
       "    <tr>\n",
       "      <th>884</th>\n",
       "      <td>0</td>\n",
       "      <td>3</td>\n",
       "      <td>Miss. Catherine Helen Johnston</td>\n",
       "      <td>female</td>\n",
       "      <td>7.0</td>\n",
       "      <td>1</td>\n",
       "      <td>2</td>\n",
       "      <td>23.4500</td>\n",
       "    </tr>\n",
       "    <tr>\n",
       "      <th>885</th>\n",
       "      <td>1</td>\n",
       "      <td>1</td>\n",
       "      <td>Mr. Karl Howell Behr</td>\n",
       "      <td>male</td>\n",
       "      <td>26.0</td>\n",
       "      <td>0</td>\n",
       "      <td>0</td>\n",
       "      <td>30.0000</td>\n",
       "    </tr>\n",
       "    <tr>\n",
       "      <th>886</th>\n",
       "      <td>0</td>\n",
       "      <td>3</td>\n",
       "      <td>Mr. Patrick Dooley</td>\n",
       "      <td>male</td>\n",
       "      <td>32.0</td>\n",
       "      <td>0</td>\n",
       "      <td>0</td>\n",
       "      <td>7.7500</td>\n",
       "    </tr>\n",
       "  </tbody>\n",
       "</table>\n",
       "<p>887 rows × 8 columns</p>\n",
       "</div>"
      ],
      "text/plain": [
       "     Survived  Pclass                                               Name  \\\n",
       "0           0       3                             Mr. Owen Harris Braund   \n",
       "1           1       1  Mrs. John Bradley (Florence Briggs Thayer) Cum...   \n",
       "2           1       3                              Miss. Laina Heikkinen   \n",
       "3           1       1        Mrs. Jacques Heath (Lily May Peel) Futrelle   \n",
       "4           0       3                            Mr. William Henry Allen   \n",
       "..        ...     ...                                                ...   \n",
       "882         0       2                               Rev. Juozas Montvila   \n",
       "883         1       1                        Miss. Margaret Edith Graham   \n",
       "884         0       3                     Miss. Catherine Helen Johnston   \n",
       "885         1       1                               Mr. Karl Howell Behr   \n",
       "886         0       3                                 Mr. Patrick Dooley   \n",
       "\n",
       "        Sex   Age  Siblings/Spouses Aboard  Parents/Children Aboard     Fare  \n",
       "0      male  22.0                        1                        0   7.2500  \n",
       "1    female  38.0                        1                        0  71.2833  \n",
       "2    female  26.0                        0                        0   7.9250  \n",
       "3    female  35.0                        1                        0  53.1000  \n",
       "4      male  35.0                        0                        0   8.0500  \n",
       "..      ...   ...                      ...                      ...      ...  \n",
       "882    male  27.0                        0                        0  13.0000  \n",
       "883  female  19.0                        0                        0  30.0000  \n",
       "884  female   7.0                        1                        2  23.4500  \n",
       "885    male  26.0                        0                        0  30.0000  \n",
       "886    male  32.0                        0                        0   7.7500  \n",
       "\n",
       "[887 rows x 8 columns]"
      ]
     },
     "execution_count": 10,
     "metadata": {},
     "output_type": "execute_result"
    }
   ],
   "source": [
    "pd.read_csv(\"C:/Users/Adm1n/Maestria_EAN/titanic.csv\") #Mediante la funcion .read_csv() agregamos la ruta donde se encuentra el archivo para \n",
    "                                                       #poder importar la base de datos."
   ]
  },
  {
   "cell_type": "code",
   "execution_count": 12,
   "id": "3cc94c62-c89a-47fc-b72b-7649999808f3",
   "metadata": {},
   "outputs": [],
   "source": [
    "titanic=pd.read_csv(\"C:/Users/Adm1n/Maestria_EAN/titanic.csv\")#Asignamos la lectura de la base de datos a la variable \"titanic\""
   ]
  },
  {
   "cell_type": "code",
   "execution_count": 14,
   "id": "4f30d949-0953-4f4a-8986-5456cd9bc42f",
   "metadata": {},
   "outputs": [
    {
     "name": "stdout",
     "output_type": "stream",
     "text": [
      "<class 'pandas.core.frame.DataFrame'>\n",
      "RangeIndex: 887 entries, 0 to 886\n",
      "Data columns (total 8 columns):\n",
      " #   Column                   Non-Null Count  Dtype  \n",
      "---  ------                   --------------  -----  \n",
      " 0   Survived                 887 non-null    int64  \n",
      " 1   Pclass                   887 non-null    int64  \n",
      " 2   Name                     887 non-null    object \n",
      " 3   Sex                      887 non-null    object \n",
      " 4   Age                      887 non-null    float64\n",
      " 5   Siblings/Spouses Aboard  887 non-null    int64  \n",
      " 6   Parents/Children Aboard  887 non-null    int64  \n",
      " 7   Fare                     887 non-null    float64\n",
      "dtypes: float64(2), int64(4), object(2)\n",
      "memory usage: 55.6+ KB\n"
     ]
    }
   ],
   "source": [
    "titanic.info() #Determinamos la informacion general de la base de datos titanic"
   ]
  },
  {
   "cell_type": "markdown",
   "id": "654fd3db-67bb-4793-9bec-5c2bf20da3a8",
   "metadata": {},
   "source": [
    "El dataframe \"titanic\" tiene un total de 887 filas y 8 columnas par aun total de 7.096 datos.\n",
    "Tomando en cuenta que las columnas son nuestras variables y cada fila representa una persona que estuvo en el titanic.\n",
    "Nuestro tipo de variales son:\n",
    "1. Numerica:\n",
    "   Enteros (int)=Survived,Pclass,Siblings/Spuses aboard,Parents/Children aboard.\n",
    "   \n",
    "   Decimal (float)=Age,Fare\n",
    "3. Categorico:\n",
    "4. Cadena de texto-object (str)=Name,Sex"
   ]
  },
  {
   "cell_type": "markdown",
   "id": "eb58c3ef-8596-46c4-aa1e-28299c6b46bf",
   "metadata": {},
   "source": [
    "## Detección de valores nulos o vacios."
   ]
  },
  {
   "cell_type": "markdown",
   "id": "e6b09017-ee00-485a-ac90-8fe4cff15181",
   "metadata": {},
   "source": [
    "Usamos la función .isnull.sum() con esto sabremos que cuantos valores estan vacios en cada una de las variables a lo largo del dataframe."
   ]
  },
  {
   "cell_type": "code",
   "execution_count": 16,
   "id": "36ca3c84-f333-489f-a2cf-9dd250d1fb89",
   "metadata": {},
   "outputs": [
    {
     "data": {
      "text/plain": [
       "Survived                   0\n",
       "Pclass                     0\n",
       "Name                       0\n",
       "Sex                        0\n",
       "Age                        0\n",
       "Siblings/Spouses Aboard    0\n",
       "Parents/Children Aboard    0\n",
       "Fare                       0\n",
       "dtype: int64"
      ]
     },
     "execution_count": 16,
     "metadata": {},
     "output_type": "execute_result"
    }
   ],
   "source": [
    "titanic.isnull().sum() #Ver cantidad de valores nulos o vacios en el dataframe."
   ]
  },
  {
   "cell_type": "markdown",
   "id": "9910b8e6-e440-4ab0-a66e-fec36b7fe1da",
   "metadata": {},
   "source": [
    "Como podemos observar ninguna variable posee un valor nulo."
   ]
  },
  {
   "cell_type": "markdown",
   "id": "e7367eae-e6e5-42ef-be8b-c2f1ff0d191c",
   "metadata": {},
   "source": [
    "## Detección de filas duplicadas"
   ]
  },
  {
   "cell_type": "markdown",
   "id": "660d8d7c-34cb-448b-a3da-6407ca8323b4",
   "metadata": {},
   "source": [
    "Aplicamos la función .duplicated() la cual nos dice mediante una confirmación con numeros booleanos si existe o no esta condición. De igual forma, adicionamos la función .sum() para determiar a lo largo de todas las filas la condición de filas duplicadas."
   ]
  },
  {
   "cell_type": "code",
   "execution_count": 18,
   "id": "f97a9639-77d5-47ff-bf5e-5267d4c6a02c",
   "metadata": {},
   "outputs": [
    {
     "data": {
      "text/plain": [
       "0"
      ]
     },
     "execution_count": 18,
     "metadata": {},
     "output_type": "execute_result"
    }
   ],
   "source": [
    "titanic.duplicated().sum() #El dataframe titanic no tiene filas duplicadas."
   ]
  },
  {
   "cell_type": "markdown",
   "id": "952653d9-4d54-44dd-867d-c93f12957c4f",
   "metadata": {},
   "source": [
    "# Limpieza de datos"
   ]
  },
  {
   "cell_type": "markdown",
   "id": "673e4021-6f92-440b-a4b5-14be3b9ddae1",
   "metadata": {},
   "source": [
    "* Procedemos a cambiar el tipo de dato para la variable \"Age\" de float a int "
   ]
  },
  {
   "cell_type": "code",
   "execution_count": 20,
   "id": "057d00fd-addf-4adb-8792-34d4509ecfb9",
   "metadata": {},
   "outputs": [],
   "source": [
    "titanic.Age=titanic.Age.astype(int) # Cambiamos el tipo de variable mediante la funcion .astype()"
   ]
  },
  {
   "cell_type": "code",
   "execution_count": 22,
   "id": "6b787a16-944f-41fd-973d-be78d96c9b1b",
   "metadata": {},
   "outputs": [
    {
     "name": "stdout",
     "output_type": "stream",
     "text": [
      "<class 'pandas.core.frame.DataFrame'>\n",
      "RangeIndex: 887 entries, 0 to 886\n",
      "Data columns (total 8 columns):\n",
      " #   Column                   Non-Null Count  Dtype  \n",
      "---  ------                   --------------  -----  \n",
      " 0   Survived                 887 non-null    int64  \n",
      " 1   Pclass                   887 non-null    int64  \n",
      " 2   Name                     887 non-null    object \n",
      " 3   Sex                      887 non-null    object \n",
      " 4   Age                      887 non-null    int32  \n",
      " 5   Siblings/Spouses Aboard  887 non-null    int64  \n",
      " 6   Parents/Children Aboard  887 non-null    int64  \n",
      " 7   Fare                     887 non-null    float64\n",
      "dtypes: float64(1), int32(1), int64(4), object(2)\n",
      "memory usage: 52.1+ KB\n"
     ]
    }
   ],
   "source": [
    "titanic.info()"
   ]
  },
  {
   "cell_type": "markdown",
   "id": "a6e50a90-5f26-4647-b7ad-ec2a9242a7c3",
   "metadata": {},
   "source": [
    "* Creamos una nueva columna para identificar si una persona  \"Sobrevivio\" o \"Fallecio\"."
   ]
  },
  {
   "cell_type": "code",
   "execution_count": 24,
   "id": "bc5d87b5-3fc0-423b-b55e-bb51df4e73cd",
   "metadata": {},
   "outputs": [],
   "source": [
    "titanic['Estado']=['Sobrevivio' if i == 1 else 'Fallecio' for i in titanic['Survived']] # Mediante la función If y For \n",
    "                                                                                        # establecemos los criterios y parametros de la nueva fila."
   ]
  },
  {
   "cell_type": "code",
   "execution_count": 28,
   "id": "a3f539aa-7e7d-4bb5-b8d1-54e42e57bef8",
   "metadata": {},
   "outputs": [
    {
     "data": {
      "text/html": [
       "<div>\n",
       "<style scoped>\n",
       "    .dataframe tbody tr th:only-of-type {\n",
       "        vertical-align: middle;\n",
       "    }\n",
       "\n",
       "    .dataframe tbody tr th {\n",
       "        vertical-align: top;\n",
       "    }\n",
       "\n",
       "    .dataframe thead th {\n",
       "        text-align: right;\n",
       "    }\n",
       "</style>\n",
       "<table border=\"1\" class=\"dataframe\">\n",
       "  <thead>\n",
       "    <tr style=\"text-align: right;\">\n",
       "      <th></th>\n",
       "      <th>Survived</th>\n",
       "      <th>Pclass</th>\n",
       "      <th>Name</th>\n",
       "      <th>Sex</th>\n",
       "      <th>Age</th>\n",
       "      <th>Siblings/Spouses Aboard</th>\n",
       "      <th>Parents/Children Aboard</th>\n",
       "      <th>Fare</th>\n",
       "      <th>Estado</th>\n",
       "    </tr>\n",
       "  </thead>\n",
       "  <tbody>\n",
       "    <tr>\n",
       "      <th>0</th>\n",
       "      <td>0</td>\n",
       "      <td>3</td>\n",
       "      <td>Mr. Owen Harris Braund</td>\n",
       "      <td>male</td>\n",
       "      <td>22</td>\n",
       "      <td>1</td>\n",
       "      <td>0</td>\n",
       "      <td>7.2500</td>\n",
       "      <td>Fallecio</td>\n",
       "    </tr>\n",
       "    <tr>\n",
       "      <th>1</th>\n",
       "      <td>1</td>\n",
       "      <td>1</td>\n",
       "      <td>Mrs. John Bradley (Florence Briggs Thayer) Cum...</td>\n",
       "      <td>female</td>\n",
       "      <td>38</td>\n",
       "      <td>1</td>\n",
       "      <td>0</td>\n",
       "      <td>71.2833</td>\n",
       "      <td>Sobrevivio</td>\n",
       "    </tr>\n",
       "    <tr>\n",
       "      <th>2</th>\n",
       "      <td>1</td>\n",
       "      <td>3</td>\n",
       "      <td>Miss. Laina Heikkinen</td>\n",
       "      <td>female</td>\n",
       "      <td>26</td>\n",
       "      <td>0</td>\n",
       "      <td>0</td>\n",
       "      <td>7.9250</td>\n",
       "      <td>Sobrevivio</td>\n",
       "    </tr>\n",
       "    <tr>\n",
       "      <th>3</th>\n",
       "      <td>1</td>\n",
       "      <td>1</td>\n",
       "      <td>Mrs. Jacques Heath (Lily May Peel) Futrelle</td>\n",
       "      <td>female</td>\n",
       "      <td>35</td>\n",
       "      <td>1</td>\n",
       "      <td>0</td>\n",
       "      <td>53.1000</td>\n",
       "      <td>Sobrevivio</td>\n",
       "    </tr>\n",
       "    <tr>\n",
       "      <th>4</th>\n",
       "      <td>0</td>\n",
       "      <td>3</td>\n",
       "      <td>Mr. William Henry Allen</td>\n",
       "      <td>male</td>\n",
       "      <td>35</td>\n",
       "      <td>0</td>\n",
       "      <td>0</td>\n",
       "      <td>8.0500</td>\n",
       "      <td>Fallecio</td>\n",
       "    </tr>\n",
       "  </tbody>\n",
       "</table>\n",
       "</div>"
      ],
      "text/plain": [
       "   Survived  Pclass                                               Name  \\\n",
       "0         0       3                             Mr. Owen Harris Braund   \n",
       "1         1       1  Mrs. John Bradley (Florence Briggs Thayer) Cum...   \n",
       "2         1       3                              Miss. Laina Heikkinen   \n",
       "3         1       1        Mrs. Jacques Heath (Lily May Peel) Futrelle   \n",
       "4         0       3                            Mr. William Henry Allen   \n",
       "\n",
       "      Sex  Age  Siblings/Spouses Aboard  Parents/Children Aboard     Fare  \\\n",
       "0    male   22                        1                        0   7.2500   \n",
       "1  female   38                        1                        0  71.2833   \n",
       "2  female   26                        0                        0   7.9250   \n",
       "3  female   35                        1                        0  53.1000   \n",
       "4    male   35                        0                        0   8.0500   \n",
       "\n",
       "       Estado  \n",
       "0    Fallecio  \n",
       "1  Sobrevivio  \n",
       "2  Sobrevivio  \n",
       "3  Sobrevivio  \n",
       "4    Fallecio  "
      ]
     },
     "execution_count": 28,
     "metadata": {},
     "output_type": "execute_result"
    }
   ],
   "source": [
    "titanic.head() #Observamos las priemras 5 filas del Dataframe."
   ]
  },
  {
   "cell_type": "markdown",
   "id": "baea730a-46ee-4dc4-843a-422acd0e9389",
   "metadata": {},
   "source": [
    "* Que pasaria si el titanic no se hubiera hundido y si las personas fueran inmortales. ¿ Cuales serian sus edades actuales ?"
   ]
  },
  {
   "cell_type": "code",
   "execution_count": 31,
   "id": "c9014504-a5f8-4984-b99a-58e49b8293ec",
   "metadata": {},
   "outputs": [],
   "source": [
    "titanic['Edad_actual']=titanic.Age+(2024-1942) #Creamos la nueva columna mediante una operación entre variables de tipo int."
   ]
  },
  {
   "cell_type": "code",
   "execution_count": 137,
   "id": "35edd540-afb3-4bb3-a308-744512a23cfb",
   "metadata": {},
   "outputs": [
    {
     "data": {
      "text/html": [
       "<div>\n",
       "<style scoped>\n",
       "    .dataframe tbody tr th:only-of-type {\n",
       "        vertical-align: middle;\n",
       "    }\n",
       "\n",
       "    .dataframe tbody tr th {\n",
       "        vertical-align: top;\n",
       "    }\n",
       "\n",
       "    .dataframe thead th {\n",
       "        text-align: right;\n",
       "    }\n",
       "</style>\n",
       "<table border=\"1\" class=\"dataframe\">\n",
       "  <thead>\n",
       "    <tr style=\"text-align: right;\">\n",
       "      <th></th>\n",
       "      <th>Survived</th>\n",
       "      <th>Pclass</th>\n",
       "      <th>Name</th>\n",
       "      <th>Sex</th>\n",
       "      <th>Age</th>\n",
       "      <th>Siblings/Spouses Aboard</th>\n",
       "      <th>Parents/Children Aboard</th>\n",
       "      <th>Fare</th>\n",
       "      <th>Estado</th>\n",
       "      <th>Edad_actual</th>\n",
       "    </tr>\n",
       "  </thead>\n",
       "  <tbody>\n",
       "    <tr>\n",
       "      <th>0</th>\n",
       "      <td>0</td>\n",
       "      <td>3</td>\n",
       "      <td>Mr. Owen Harris Braund</td>\n",
       "      <td>male</td>\n",
       "      <td>22</td>\n",
       "      <td>1</td>\n",
       "      <td>0</td>\n",
       "      <td>7.2500</td>\n",
       "      <td>Fallecio</td>\n",
       "      <td>104</td>\n",
       "    </tr>\n",
       "    <tr>\n",
       "      <th>1</th>\n",
       "      <td>1</td>\n",
       "      <td>1</td>\n",
       "      <td>Mrs. John Bradley (Florence Briggs Thayer) Cum...</td>\n",
       "      <td>female</td>\n",
       "      <td>38</td>\n",
       "      <td>1</td>\n",
       "      <td>0</td>\n",
       "      <td>71.2833</td>\n",
       "      <td>Sobrevivio</td>\n",
       "      <td>120</td>\n",
       "    </tr>\n",
       "    <tr>\n",
       "      <th>2</th>\n",
       "      <td>1</td>\n",
       "      <td>3</td>\n",
       "      <td>Miss. Laina Heikkinen</td>\n",
       "      <td>female</td>\n",
       "      <td>26</td>\n",
       "      <td>0</td>\n",
       "      <td>0</td>\n",
       "      <td>7.9250</td>\n",
       "      <td>Sobrevivio</td>\n",
       "      <td>108</td>\n",
       "    </tr>\n",
       "    <tr>\n",
       "      <th>3</th>\n",
       "      <td>1</td>\n",
       "      <td>1</td>\n",
       "      <td>Mrs. Jacques Heath (Lily May Peel) Futrelle</td>\n",
       "      <td>female</td>\n",
       "      <td>35</td>\n",
       "      <td>1</td>\n",
       "      <td>0</td>\n",
       "      <td>53.1000</td>\n",
       "      <td>Sobrevivio</td>\n",
       "      <td>117</td>\n",
       "    </tr>\n",
       "    <tr>\n",
       "      <th>4</th>\n",
       "      <td>0</td>\n",
       "      <td>3</td>\n",
       "      <td>Mr. William Henry Allen</td>\n",
       "      <td>male</td>\n",
       "      <td>35</td>\n",
       "      <td>0</td>\n",
       "      <td>0</td>\n",
       "      <td>8.0500</td>\n",
       "      <td>Fallecio</td>\n",
       "      <td>117</td>\n",
       "    </tr>\n",
       "  </tbody>\n",
       "</table>\n",
       "</div>"
      ],
      "text/plain": [
       "   Survived  Pclass                                               Name  \\\n",
       "0         0       3                             Mr. Owen Harris Braund   \n",
       "1         1       1  Mrs. John Bradley (Florence Briggs Thayer) Cum...   \n",
       "2         1       3                              Miss. Laina Heikkinen   \n",
       "3         1       1        Mrs. Jacques Heath (Lily May Peel) Futrelle   \n",
       "4         0       3                            Mr. William Henry Allen   \n",
       "\n",
       "      Sex  Age  Siblings/Spouses Aboard  Parents/Children Aboard     Fare  \\\n",
       "0    male   22                        1                        0   7.2500   \n",
       "1  female   38                        1                        0  71.2833   \n",
       "2  female   26                        0                        0   7.9250   \n",
       "3  female   35                        1                        0  53.1000   \n",
       "4    male   35                        0                        0   8.0500   \n",
       "\n",
       "       Estado  Edad_actual  \n",
       "0    Fallecio          104  \n",
       "1  Sobrevivio          120  \n",
       "2  Sobrevivio          108  \n",
       "3  Sobrevivio          117  \n",
       "4    Fallecio          117  "
      ]
     },
     "execution_count": 137,
     "metadata": {},
     "output_type": "execute_result"
    }
   ],
   "source": [
    "titanic.head()"
   ]
  },
  {
   "cell_type": "markdown",
   "id": "6e965209-63e2-4519-b243-d026b5c0e8de",
   "metadata": {},
   "source": [
    "## Clasificación de edad de los pasajeros"
   ]
  },
  {
   "cell_type": "code",
   "execution_count": 36,
   "id": "36b73b8f-b51e-49f0-ae8f-d95188e806f8",
   "metadata": {},
   "outputs": [
    {
     "data": {
      "text/html": [
       "<div>\n",
       "<style scoped>\n",
       "    .dataframe tbody tr th:only-of-type {\n",
       "        vertical-align: middle;\n",
       "    }\n",
       "\n",
       "    .dataframe tbody tr th {\n",
       "        vertical-align: top;\n",
       "    }\n",
       "\n",
       "    .dataframe thead th {\n",
       "        text-align: right;\n",
       "    }\n",
       "</style>\n",
       "<table border=\"1\" class=\"dataframe\">\n",
       "  <thead>\n",
       "    <tr style=\"text-align: right;\">\n",
       "      <th></th>\n",
       "      <th>Survived</th>\n",
       "      <th>Pclass</th>\n",
       "      <th>Name</th>\n",
       "      <th>Sex</th>\n",
       "      <th>Age</th>\n",
       "      <th>Siblings/Spouses Aboard</th>\n",
       "      <th>Parents/Children Aboard</th>\n",
       "      <th>Fare</th>\n",
       "      <th>Estado</th>\n",
       "      <th>Edad_actual</th>\n",
       "      <th>Claf_edad</th>\n",
       "    </tr>\n",
       "  </thead>\n",
       "  <tbody>\n",
       "    <tr>\n",
       "      <th>0</th>\n",
       "      <td>0</td>\n",
       "      <td>3</td>\n",
       "      <td>Mr. Owen Harris Braund</td>\n",
       "      <td>male</td>\n",
       "      <td>22</td>\n",
       "      <td>1</td>\n",
       "      <td>0</td>\n",
       "      <td>7.2500</td>\n",
       "      <td>Fallecio</td>\n",
       "      <td>104</td>\n",
       "      <td>Adulto</td>\n",
       "    </tr>\n",
       "    <tr>\n",
       "      <th>1</th>\n",
       "      <td>1</td>\n",
       "      <td>1</td>\n",
       "      <td>Mrs. John Bradley (Florence Briggs Thayer) Cum...</td>\n",
       "      <td>female</td>\n",
       "      <td>38</td>\n",
       "      <td>1</td>\n",
       "      <td>0</td>\n",
       "      <td>71.2833</td>\n",
       "      <td>Sobrevivio</td>\n",
       "      <td>120</td>\n",
       "      <td>Adulto</td>\n",
       "    </tr>\n",
       "    <tr>\n",
       "      <th>2</th>\n",
       "      <td>1</td>\n",
       "      <td>3</td>\n",
       "      <td>Miss. Laina Heikkinen</td>\n",
       "      <td>female</td>\n",
       "      <td>26</td>\n",
       "      <td>0</td>\n",
       "      <td>0</td>\n",
       "      <td>7.9250</td>\n",
       "      <td>Sobrevivio</td>\n",
       "      <td>108</td>\n",
       "      <td>Adulto</td>\n",
       "    </tr>\n",
       "    <tr>\n",
       "      <th>3</th>\n",
       "      <td>1</td>\n",
       "      <td>1</td>\n",
       "      <td>Mrs. Jacques Heath (Lily May Peel) Futrelle</td>\n",
       "      <td>female</td>\n",
       "      <td>35</td>\n",
       "      <td>1</td>\n",
       "      <td>0</td>\n",
       "      <td>53.1000</td>\n",
       "      <td>Sobrevivio</td>\n",
       "      <td>117</td>\n",
       "      <td>Adulto</td>\n",
       "    </tr>\n",
       "    <tr>\n",
       "      <th>4</th>\n",
       "      <td>0</td>\n",
       "      <td>3</td>\n",
       "      <td>Mr. William Henry Allen</td>\n",
       "      <td>male</td>\n",
       "      <td>35</td>\n",
       "      <td>0</td>\n",
       "      <td>0</td>\n",
       "      <td>8.0500</td>\n",
       "      <td>Fallecio</td>\n",
       "      <td>117</td>\n",
       "      <td>Adulto</td>\n",
       "    </tr>\n",
       "  </tbody>\n",
       "</table>\n",
       "</div>"
      ],
      "text/plain": [
       "   Survived  Pclass                                               Name  \\\n",
       "0         0       3                             Mr. Owen Harris Braund   \n",
       "1         1       1  Mrs. John Bradley (Florence Briggs Thayer) Cum...   \n",
       "2         1       3                              Miss. Laina Heikkinen   \n",
       "3         1       1        Mrs. Jacques Heath (Lily May Peel) Futrelle   \n",
       "4         0       3                            Mr. William Henry Allen   \n",
       "\n",
       "      Sex  Age  Siblings/Spouses Aboard  Parents/Children Aboard     Fare  \\\n",
       "0    male   22                        1                        0   7.2500   \n",
       "1  female   38                        1                        0  71.2833   \n",
       "2  female   26                        0                        0   7.9250   \n",
       "3  female   35                        1                        0  53.1000   \n",
       "4    male   35                        0                        0   8.0500   \n",
       "\n",
       "       Estado  Edad_actual Claf_edad  \n",
       "0    Fallecio          104    Adulto  \n",
       "1  Sobrevivio          120    Adulto  \n",
       "2  Sobrevivio          108    Adulto  \n",
       "3  Sobrevivio          117    Adulto  \n",
       "4    Fallecio          117    Adulto  "
      ]
     },
     "execution_count": 36,
     "metadata": {},
     "output_type": "execute_result"
    }
   ],
   "source": [
    "titanic['Claf_edad']=['Menor' if i < 18 else 'Adulto' for i in titanic['Age']]\n",
    "titanic.head()"
   ]
  },
  {
   "cell_type": "markdown",
   "id": "1e7cf71c-6127-4ce4-aeeb-98d4a7a06d20",
   "metadata": {},
   "source": [
    "## Analisis de datos"
   ]
  },
  {
   "cell_type": "code",
   "execution_count": 141,
   "id": "cbfc93ea-f84c-4272-9cd9-18c9452ee00a",
   "metadata": {},
   "outputs": [
    {
     "data": {
      "text/plain": [
       "Estado\n",
       "Fallecio      61.443067\n",
       "Sobrevivio    38.556933\n",
       "Name: count, dtype: float64"
      ]
     },
     "execution_count": 141,
     "metadata": {},
     "output_type": "execute_result"
    }
   ],
   "source": [
    "# Porcentaje de sobrevivientes\n",
    "porcentaje_sobr=titanic.Estado.value_counts()/titanic.Estado.count()*100\n",
    "porcentaje_sobr"
   ]
  },
  {
   "cell_type": "code",
   "execution_count": 157,
   "id": "34535b5c-57ba-44c8-9e32-f83ff644365e",
   "metadata": {},
   "outputs": [
    {
     "data": {
      "text/plain": [
       "Pclass\n",
       "3    54.904171\n",
       "1    24.351747\n",
       "2    20.744081\n",
       "Name: count, dtype: float64"
      ]
     },
     "execution_count": 157,
     "metadata": {},
     "output_type": "execute_result"
    }
   ],
   "source": [
    "# Porcentaje de pasajares en cada nivel de clase\n",
    "titanic.Pclass.value_counts()/titanic.Pclass.count()*100"
   ]
  },
  {
   "cell_type": "code",
   "execution_count": 77,
   "id": "66f1904d-ec71-47b5-820f-078de733d88b",
   "metadata": {},
   "outputs": [
    {
     "data": {
      "text/plain": [
       "Pclass  Sex   \n",
       "1       male      56.481481\n",
       "        female    43.518519\n",
       "2       male      58.695652\n",
       "        female    41.304348\n",
       "3       male      70.431211\n",
       "        female    29.568789\n",
       "Name: proportion, dtype: float64"
      ]
     },
     "execution_count": 77,
     "metadata": {},
     "output_type": "execute_result"
    }
   ],
   "source": [
    "# Porcentaje de hombres/mujeres en cada nivel\n",
    "titanic.groupby('Pclass')['Sex'].value_counts('male')*100"
   ]
  },
  {
   "cell_type": "code",
   "execution_count": 192,
   "id": "de1a78c7-8dc7-491b-bb09-ab75f2892722",
   "metadata": {},
   "outputs": [
    {
     "data": {
      "text/plain": [
       "Sex\n",
       "male      64.599775\n",
       "female    35.400225\n",
       "Name: count, dtype: float64"
      ]
     },
     "execution_count": 192,
     "metadata": {},
     "output_type": "execute_result"
    }
   ],
   "source": [
    "# Porcentaje de pasajeros segun su genero\n",
    "titanic.Sex.value_counts()/titanic.Sex.count()*100"
   ]
  },
  {
   "cell_type": "code",
   "execution_count": 213,
   "id": "ac2579d4-0f39-4b2a-8368-8e7b9269c385",
   "metadata": {},
   "outputs": [
    {
     "data": {
      "text/plain": [
       "Claf_edad\n",
       "Adulto    85.343856\n",
       "Menor     14.656144\n",
       "Name: count, dtype: float64"
      ]
     },
     "execution_count": 213,
     "metadata": {},
     "output_type": "execute_result"
    }
   ],
   "source": [
    "# Porcentaje de menores de edad\n",
    "titanic.Claf_edad.value_counts()/titanic.Claf_edad.count()*100"
   ]
  },
  {
   "cell_type": "code",
   "execution_count": 64,
   "id": "43b8bc46-2aed-4277-b4ae-ebe7386057c5",
   "metadata": {
    "scrolled": true
   },
   "outputs": [
    {
     "data": {
      "text/plain": [
       "Pclass  Estado    \n",
       "1       Sobrevivio    62.962963\n",
       "        Fallecio      37.037037\n",
       "2       Fallecio      52.717391\n",
       "        Sobrevivio    47.282609\n",
       "3       Fallecio      75.564682\n",
       "        Sobrevivio    24.435318\n",
       "Name: proportion, dtype: float64"
      ]
     },
     "execution_count": 64,
     "metadata": {},
     "output_type": "execute_result"
    }
   ],
   "source": [
    "# Porcentaje de sobrevivientes y fallecidos por categoria\n",
    "titanic.groupby('Pclass')['Estado'].value_counts('Sobrevivio')*100 # Mediante la función .groupby agrupamos por el tipo de clase con el criterio si sobrevivio o no \n",
    "                                                                       # con el atributo de \"Estado\""
   ]
  },
  {
   "cell_type": "code",
   "execution_count": 70,
   "id": "66b253aa-60ba-40d3-984a-0fb141abad38",
   "metadata": {},
   "outputs": [
    {
     "data": {
      "text/plain": [
       "Sex     Estado    \n",
       "female  Sobrevivio    74.203822\n",
       "        Fallecio      25.796178\n",
       "male    Fallecio      80.977312\n",
       "        Sobrevivio    19.022688\n",
       "Name: proportion, dtype: float64"
      ]
     },
     "execution_count": 70,
     "metadata": {},
     "output_type": "execute_result"
    }
   ],
   "source": [
    "# Porcentaje de sobrevivientes y fallecidos por genero.\n",
    "titanic.groupby('Sex')['Estado'].value_counts('Sobrevivio')*100"
   ]
  },
  {
   "cell_type": "code",
   "execution_count": 74,
   "id": "0487de70-366a-4f7b-a7a2-87cc30df33a9",
   "metadata": {},
   "outputs": [
    {
     "data": {
      "text/plain": [
       "Claf_edad  Estado    \n",
       "Adulto     Fallecio      63.40819\n",
       "           Sobrevivio    36.59181\n",
       "Menor      Fallecio      50.00000\n",
       "           Sobrevivio    50.00000\n",
       "Name: proportion, dtype: float64"
      ]
     },
     "execution_count": 74,
     "metadata": {},
     "output_type": "execute_result"
    }
   ],
   "source": [
    "#Porcentaje de sobrevivientes y fallecidos por edad.\n",
    "titanic.groupby('Claf_edad')['Estado'].value_counts('Sobrevivio')*100"
   ]
  },
  {
   "cell_type": "code",
   "execution_count": 80,
   "id": "4a68503f-f293-409e-b4ee-bc18b9db8cd6",
   "metadata": {},
   "outputs": [
    {
     "data": {
      "text/html": [
       "<div>\n",
       "<style scoped>\n",
       "    .dataframe tbody tr th:only-of-type {\n",
       "        vertical-align: middle;\n",
       "    }\n",
       "\n",
       "    .dataframe tbody tr th {\n",
       "        vertical-align: top;\n",
       "    }\n",
       "\n",
       "    .dataframe thead th {\n",
       "        text-align: right;\n",
       "    }\n",
       "</style>\n",
       "<table border=\"1\" class=\"dataframe\">\n",
       "  <thead>\n",
       "    <tr style=\"text-align: right;\">\n",
       "      <th></th>\n",
       "      <th>Survived</th>\n",
       "      <th>Pclass</th>\n",
       "      <th>Age</th>\n",
       "      <th>Siblings/Spouses Aboard</th>\n",
       "      <th>Parents/Children Aboard</th>\n",
       "      <th>Fare</th>\n",
       "      <th>Edad_actual</th>\n",
       "    </tr>\n",
       "  </thead>\n",
       "  <tbody>\n",
       "    <tr>\n",
       "      <th>count</th>\n",
       "      <td>887.000000</td>\n",
       "      <td>887.000000</td>\n",
       "      <td>887.000000</td>\n",
       "      <td>887.000000</td>\n",
       "      <td>887.000000</td>\n",
       "      <td>887.00000</td>\n",
       "      <td>887.000000</td>\n",
       "    </tr>\n",
       "    <tr>\n",
       "      <th>mean</th>\n",
       "      <td>0.385569</td>\n",
       "      <td>2.305524</td>\n",
       "      <td>29.455468</td>\n",
       "      <td>0.525366</td>\n",
       "      <td>0.383315</td>\n",
       "      <td>32.30542</td>\n",
       "      <td>111.455468</td>\n",
       "    </tr>\n",
       "    <tr>\n",
       "      <th>std</th>\n",
       "      <td>0.487004</td>\n",
       "      <td>0.836662</td>\n",
       "      <td>14.129919</td>\n",
       "      <td>1.104669</td>\n",
       "      <td>0.807466</td>\n",
       "      <td>49.78204</td>\n",
       "      <td>14.129919</td>\n",
       "    </tr>\n",
       "    <tr>\n",
       "      <th>min</th>\n",
       "      <td>0.000000</td>\n",
       "      <td>1.000000</td>\n",
       "      <td>0.000000</td>\n",
       "      <td>0.000000</td>\n",
       "      <td>0.000000</td>\n",
       "      <td>0.00000</td>\n",
       "      <td>82.000000</td>\n",
       "    </tr>\n",
       "    <tr>\n",
       "      <th>25%</th>\n",
       "      <td>0.000000</td>\n",
       "      <td>2.000000</td>\n",
       "      <td>20.000000</td>\n",
       "      <td>0.000000</td>\n",
       "      <td>0.000000</td>\n",
       "      <td>7.92500</td>\n",
       "      <td>102.000000</td>\n",
       "    </tr>\n",
       "    <tr>\n",
       "      <th>50%</th>\n",
       "      <td>0.000000</td>\n",
       "      <td>3.000000</td>\n",
       "      <td>28.000000</td>\n",
       "      <td>0.000000</td>\n",
       "      <td>0.000000</td>\n",
       "      <td>14.45420</td>\n",
       "      <td>110.000000</td>\n",
       "    </tr>\n",
       "    <tr>\n",
       "      <th>75%</th>\n",
       "      <td>1.000000</td>\n",
       "      <td>3.000000</td>\n",
       "      <td>38.000000</td>\n",
       "      <td>1.000000</td>\n",
       "      <td>0.000000</td>\n",
       "      <td>31.13750</td>\n",
       "      <td>120.000000</td>\n",
       "    </tr>\n",
       "    <tr>\n",
       "      <th>max</th>\n",
       "      <td>1.000000</td>\n",
       "      <td>3.000000</td>\n",
       "      <td>80.000000</td>\n",
       "      <td>8.000000</td>\n",
       "      <td>6.000000</td>\n",
       "      <td>512.32920</td>\n",
       "      <td>162.000000</td>\n",
       "    </tr>\n",
       "  </tbody>\n",
       "</table>\n",
       "</div>"
      ],
      "text/plain": [
       "         Survived      Pclass         Age  Siblings/Spouses Aboard  \\\n",
       "count  887.000000  887.000000  887.000000               887.000000   \n",
       "mean     0.385569    2.305524   29.455468                 0.525366   \n",
       "std      0.487004    0.836662   14.129919                 1.104669   \n",
       "min      0.000000    1.000000    0.000000                 0.000000   \n",
       "25%      0.000000    2.000000   20.000000                 0.000000   \n",
       "50%      0.000000    3.000000   28.000000                 0.000000   \n",
       "75%      1.000000    3.000000   38.000000                 1.000000   \n",
       "max      1.000000    3.000000   80.000000                 8.000000   \n",
       "\n",
       "       Parents/Children Aboard       Fare  Edad_actual  \n",
       "count               887.000000  887.00000   887.000000  \n",
       "mean                  0.383315   32.30542   111.455468  \n",
       "std                   0.807466   49.78204    14.129919  \n",
       "min                   0.000000    0.00000    82.000000  \n",
       "25%                   0.000000    7.92500   102.000000  \n",
       "50%                   0.000000   14.45420   110.000000  \n",
       "75%                   0.000000   31.13750   120.000000  \n",
       "max                   6.000000  512.32920   162.000000  "
      ]
     },
     "execution_count": 80,
     "metadata": {},
     "output_type": "execute_result"
    }
   ],
   "source": [
    "titanic.describe() # Con la función describe.() podemos observar los resultados estadisticos principales."
   ]
  },
  {
   "cell_type": "markdown",
   "id": "46da157e-9263-4df3-b928-b4633ea9a845",
   "metadata": {},
   "source": [
    "La edad promedio de los pasajeros que abordaron el titanic era de 29 años en un rango desde 0 años (proceso de embarazo) hasta los 80 años (valor maximo)"
   ]
  },
  {
   "cell_type": "markdown",
   "id": "2113d940-dfa4-46d4-962c-92d6f64e6d60",
   "metadata": {},
   "source": [
    "## CONCLUSIONES"
   ]
  },
  {
   "cell_type": "markdown",
   "id": "ad06dd3e-8e25-414a-90f3-9ec1e1253372",
   "metadata": {},
   "source": [
    "De acuerdo al previo analisis del dataframe titanic, se pueden concluir los siguientes datos:\n",
    "\n",
    "* Solo sobrevivio el 38.55% de los pasajeros para un total de 342 pasajeros a bordo del titanic. Para un total de fallecidos de 545 pasajeros.\n",
    "* Se dio preferencia a salvar a mujeres que a hombres. Es por esto que vemos tan reducido el porcentaje de sobrevivientes en la Clase 3 con un 24.43% ya que el 70.43% eran hombres.\n",
    "* Para tener mas probabilidad de sobrevivir en el evento del titanic se debia cumplir con los siguientes requisitos:\n",
    "    Ser menor de edad - ser del genero femenino - pertenecer a la clase 1"
   ]
  }
 ],
 "metadata": {
  "kernelspec": {
   "display_name": "Python 3 (ipykernel)",
   "language": "python",
   "name": "python3"
  },
  "language_info": {
   "codemirror_mode": {
    "name": "ipython",
    "version": 3
   },
   "file_extension": ".py",
   "mimetype": "text/x-python",
   "name": "python",
   "nbconvert_exporter": "python",
   "pygments_lexer": "ipython3",
   "version": "3.12.4"
  }
 },
 "nbformat": 4,
 "nbformat_minor": 5
}
